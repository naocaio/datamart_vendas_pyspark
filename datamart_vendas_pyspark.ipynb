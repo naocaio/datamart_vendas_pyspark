{
  "nbformat": 4,
  "nbformat_minor": 0,
  "metadata": {
    "colab": {
      "provenance": [],
      "collapsed_sections": [
        "pUyj0ZHnTu6R"
      ]
    },
    "kernelspec": {
      "name": "python3",
      "display_name": "Python 3"
    },
    "language_info": {
      "name": "python"
    }
  },
  "cells": [
    {
      "cell_type": "markdown",
      "source": [
        "# **DataMart de Vendas em PySpark**\n",
        "\n",
        "**Descrição:**  \n",
        "Construção de um DataMart de vendas utilizando PySpark, com modelagem estrela (seção 1) e consultas analíticas (seção 2) no Colab.\n",
        "\n",
        "**Autor:** Caio Silva  \n",
        "**Data de Criação:** 27/04/2025  \n",
        "**Última Atualização:** 27/04/2025  \n",
        "**Stack:** PySpark, 3.11.12, Google Colab\n"
      ],
      "metadata": {
        "id": "squb8urlRXWm"
      }
    },
    {
      "cell_type": "markdown",
      "source": [
        "# **Seção 1 - Transformação e modelagem de dados com PySpark**"
      ],
      "metadata": {
        "id": "xbgXzmBrWT3W"
      }
    },
    {
      "cell_type": "code",
      "execution_count": 19,
      "metadata": {
        "colab": {
          "base_uri": "https://localhost:8080/"
        },
        "id": "cT6DE2s73EPl",
        "outputId": "aba546e0-c8ec-417f-cc82-c1d727172a88"
      },
      "outputs": [
        {
          "output_type": "stream",
          "name": "stdout",
          "text": [
            "Requirement already satisfied: pyspark in /usr/local/lib/python3.11/dist-packages (3.5.5)\n",
            "Requirement already satisfied: py4j==0.10.9.7 in /usr/local/lib/python3.11/dist-packages (from pyspark) (0.10.9.7)\n"
          ]
        }
      ],
      "source": [
        "# Instalação e importação de bibliotecas e funções usadas no projeto\n",
        "!pip install pyspark\n",
        "import os\n",
        "from datetime import datetime\n",
        "from google.colab import files\n",
        "from pyspark.sql import SparkSession\n",
        "from pyspark.sql.functions import col, monotonically_increasing_id, year, month, dayofmonth"
      ]
    },
    {
      "cell_type": "code",
      "source": [
        "# Upload dos dados brutos em CSV\n",
        "uploaded = files.upload()"
      ],
      "metadata": {
        "colab": {
          "base_uri": "https://localhost:8080/",
          "height": 73
        },
        "id": "q6QgJop4YR2w",
        "outputId": "86a3eed0-f6f8-45cd-d780-da8bee4f21f3"
      },
      "execution_count": 4,
      "outputs": [
        {
          "output_type": "display_data",
          "data": {
            "text/plain": [
              "<IPython.core.display.HTML object>"
            ],
            "text/html": [
              "\n",
              "     <input type=\"file\" id=\"files-2e4ef9af-575e-4155-9434-d1e0dce6ac12\" name=\"files[]\" multiple disabled\n",
              "        style=\"border:none\" />\n",
              "     <output id=\"result-2e4ef9af-575e-4155-9434-d1e0dce6ac12\">\n",
              "      Upload widget is only available when the cell has been executed in the\n",
              "      current browser session. Please rerun this cell to enable.\n",
              "      </output>\n",
              "      <script>// Copyright 2017 Google LLC\n",
              "//\n",
              "// Licensed under the Apache License, Version 2.0 (the \"License\");\n",
              "// you may not use this file except in compliance with the License.\n",
              "// You may obtain a copy of the License at\n",
              "//\n",
              "//      http://www.apache.org/licenses/LICENSE-2.0\n",
              "//\n",
              "// Unless required by applicable law or agreed to in writing, software\n",
              "// distributed under the License is distributed on an \"AS IS\" BASIS,\n",
              "// WITHOUT WARRANTIES OR CONDITIONS OF ANY KIND, either express or implied.\n",
              "// See the License for the specific language governing permissions and\n",
              "// limitations under the License.\n",
              "\n",
              "/**\n",
              " * @fileoverview Helpers for google.colab Python module.\n",
              " */\n",
              "(function(scope) {\n",
              "function span(text, styleAttributes = {}) {\n",
              "  const element = document.createElement('span');\n",
              "  element.textContent = text;\n",
              "  for (const key of Object.keys(styleAttributes)) {\n",
              "    element.style[key] = styleAttributes[key];\n",
              "  }\n",
              "  return element;\n",
              "}\n",
              "\n",
              "// Max number of bytes which will be uploaded at a time.\n",
              "const MAX_PAYLOAD_SIZE = 100 * 1024;\n",
              "\n",
              "function _uploadFiles(inputId, outputId) {\n",
              "  const steps = uploadFilesStep(inputId, outputId);\n",
              "  const outputElement = document.getElementById(outputId);\n",
              "  // Cache steps on the outputElement to make it available for the next call\n",
              "  // to uploadFilesContinue from Python.\n",
              "  outputElement.steps = steps;\n",
              "\n",
              "  return _uploadFilesContinue(outputId);\n",
              "}\n",
              "\n",
              "// This is roughly an async generator (not supported in the browser yet),\n",
              "// where there are multiple asynchronous steps and the Python side is going\n",
              "// to poll for completion of each step.\n",
              "// This uses a Promise to block the python side on completion of each step,\n",
              "// then passes the result of the previous step as the input to the next step.\n",
              "function _uploadFilesContinue(outputId) {\n",
              "  const outputElement = document.getElementById(outputId);\n",
              "  const steps = outputElement.steps;\n",
              "\n",
              "  const next = steps.next(outputElement.lastPromiseValue);\n",
              "  return Promise.resolve(next.value.promise).then((value) => {\n",
              "    // Cache the last promise value to make it available to the next\n",
              "    // step of the generator.\n",
              "    outputElement.lastPromiseValue = value;\n",
              "    return next.value.response;\n",
              "  });\n",
              "}\n",
              "\n",
              "/**\n",
              " * Generator function which is called between each async step of the upload\n",
              " * process.\n",
              " * @param {string} inputId Element ID of the input file picker element.\n",
              " * @param {string} outputId Element ID of the output display.\n",
              " * @return {!Iterable<!Object>} Iterable of next steps.\n",
              " */\n",
              "function* uploadFilesStep(inputId, outputId) {\n",
              "  const inputElement = document.getElementById(inputId);\n",
              "  inputElement.disabled = false;\n",
              "\n",
              "  const outputElement = document.getElementById(outputId);\n",
              "  outputElement.innerHTML = '';\n",
              "\n",
              "  const pickedPromise = new Promise((resolve) => {\n",
              "    inputElement.addEventListener('change', (e) => {\n",
              "      resolve(e.target.files);\n",
              "    });\n",
              "  });\n",
              "\n",
              "  const cancel = document.createElement('button');\n",
              "  inputElement.parentElement.appendChild(cancel);\n",
              "  cancel.textContent = 'Cancel upload';\n",
              "  const cancelPromise = new Promise((resolve) => {\n",
              "    cancel.onclick = () => {\n",
              "      resolve(null);\n",
              "    };\n",
              "  });\n",
              "\n",
              "  // Wait for the user to pick the files.\n",
              "  const files = yield {\n",
              "    promise: Promise.race([pickedPromise, cancelPromise]),\n",
              "    response: {\n",
              "      action: 'starting',\n",
              "    }\n",
              "  };\n",
              "\n",
              "  cancel.remove();\n",
              "\n",
              "  // Disable the input element since further picks are not allowed.\n",
              "  inputElement.disabled = true;\n",
              "\n",
              "  if (!files) {\n",
              "    return {\n",
              "      response: {\n",
              "        action: 'complete',\n",
              "      }\n",
              "    };\n",
              "  }\n",
              "\n",
              "  for (const file of files) {\n",
              "    const li = document.createElement('li');\n",
              "    li.append(span(file.name, {fontWeight: 'bold'}));\n",
              "    li.append(span(\n",
              "        `(${file.type || 'n/a'}) - ${file.size} bytes, ` +\n",
              "        `last modified: ${\n",
              "            file.lastModifiedDate ? file.lastModifiedDate.toLocaleDateString() :\n",
              "                                    'n/a'} - `));\n",
              "    const percent = span('0% done');\n",
              "    li.appendChild(percent);\n",
              "\n",
              "    outputElement.appendChild(li);\n",
              "\n",
              "    const fileDataPromise = new Promise((resolve) => {\n",
              "      const reader = new FileReader();\n",
              "      reader.onload = (e) => {\n",
              "        resolve(e.target.result);\n",
              "      };\n",
              "      reader.readAsArrayBuffer(file);\n",
              "    });\n",
              "    // Wait for the data to be ready.\n",
              "    let fileData = yield {\n",
              "      promise: fileDataPromise,\n",
              "      response: {\n",
              "        action: 'continue',\n",
              "      }\n",
              "    };\n",
              "\n",
              "    // Use a chunked sending to avoid message size limits. See b/62115660.\n",
              "    let position = 0;\n",
              "    do {\n",
              "      const length = Math.min(fileData.byteLength - position, MAX_PAYLOAD_SIZE);\n",
              "      const chunk = new Uint8Array(fileData, position, length);\n",
              "      position += length;\n",
              "\n",
              "      const base64 = btoa(String.fromCharCode.apply(null, chunk));\n",
              "      yield {\n",
              "        response: {\n",
              "          action: 'append',\n",
              "          file: file.name,\n",
              "          data: base64,\n",
              "        },\n",
              "      };\n",
              "\n",
              "      let percentDone = fileData.byteLength === 0 ?\n",
              "          100 :\n",
              "          Math.round((position / fileData.byteLength) * 100);\n",
              "      percent.textContent = `${percentDone}% done`;\n",
              "\n",
              "    } while (position < fileData.byteLength);\n",
              "  }\n",
              "\n",
              "  // All done.\n",
              "  yield {\n",
              "    response: {\n",
              "      action: 'complete',\n",
              "    }\n",
              "  };\n",
              "}\n",
              "\n",
              "scope.google = scope.google || {};\n",
              "scope.google.colab = scope.google.colab || {};\n",
              "scope.google.colab._files = {\n",
              "  _uploadFiles,\n",
              "  _uploadFilesContinue,\n",
              "};\n",
              "})(self);\n",
              "</script> "
            ]
          },
          "metadata": {}
        },
        {
          "output_type": "stream",
          "name": "stdout",
          "text": [
            "Saving dados_brutos.csv to dados_brutos.csv\n"
          ]
        }
      ]
    },
    {
      "cell_type": "code",
      "source": [
        "# Criar a sessão Spark\n",
        "spark = SparkSession.builder \\\n",
        "    .appName(\"DataMart_Vendas\") \\\n",
        "    .getOrCreate()"
      ],
      "metadata": {
        "id": "QG1XnwU_Yd8v"
      },
      "execution_count": 5,
      "outputs": []
    },
    {
      "cell_type": "code",
      "source": [
        "# Ler o arquivo CSV\n",
        "dados_brutos = spark.read.csv(\"/content/dados_brutos.csv\", header=True, inferSchema=True)\n",
        "\n",
        "# Printar os 10 primeiros registros\n",
        "dados_brutos.show(10)\n"
      ],
      "metadata": {
        "colab": {
          "base_uri": "https://localhost:8080/"
        },
        "id": "V8XDnt2jYpVk",
        "outputId": "79cf78c1-f6aa-4612-92d8-16e37573c946"
      },
      "execution_count": 6,
      "outputs": [
        {
          "output_type": "stream",
          "name": "stdout",
          "text": [
            "+-------------+--------------+------+------------+---------+----------+----------+-----------+-----------+\n",
            "| nome_cliente|        cidade|estado|nome_produto|categoria|fabricante|      data|qtd_vendida|valor_total|\n",
            "+-------------+--------------+------+------------+---------+----------+----------+-----------+-----------+\n",
            "|Lucas Pereira|  Porto Alegre|    RS|  Detergente|  Limpeza|       Ypê|2024-01-26|          6|         90|\n",
            "|Lucas Pereira|  Porto Alegre|    RS|      Feijão| Alimento|   Kicaldo|2024-01-14|         10|        240|\n",
            "| Ana Oliveira|Rio de Janeiro|    RJ|Refrigerante|   Bebida| Coca-Cola|2024-01-15|          3|        150|\n",
            "| Pedro Santos|      Curitiba|    PR|      Feijão| Alimento|   Kicaldo|2024-01-28|          4|        152|\n",
            "| Pedro Santos|      Curitiba|    PR|       Arroz| Alimento|     Camil|2024-01-24|          3|         87|\n",
            "| Pedro Santos|      Curitiba|    PR|Refrigerante|   Bebida| Coca-Cola|2024-01-10|          6|        192|\n",
            "|   João Silva|     São Paulo|    SP|  Detergente|  Limpeza|       Ypê|2024-01-02|         10|        190|\n",
            "|Lucas Pereira|  Porto Alegre|    RS|      Feijão| Alimento|   Kicaldo|2024-01-17|         10|        260|\n",
            "| Pedro Santos|      Curitiba|    PR| Sabão em pó|  Limpeza|       OMO|2024-01-24|          2|         90|\n",
            "|   João Silva|     São Paulo|    SP|      Feijão| Alimento|   Kicaldo|2024-01-19|         10|        470|\n",
            "+-------------+--------------+------+------------+---------+----------+----------+-----------+-----------+\n",
            "only showing top 10 rows\n",
            "\n"
          ]
        }
      ]
    },
    {
      "cell_type": "code",
      "source": [
        "# Montar tabela dimensão Cliente\n",
        "dim_cliente = dados_brutos.select(\"nome_cliente\").dropDuplicates() \\\n",
        "    .withColumn(\"cliente_id\", monotonically_increasing_id())\n",
        "\n",
        "# Montar tabela dimensão Localidade\n",
        "dim_localidade = dados_brutos.select(\"cidade\", \"estado\").dropDuplicates() \\\n",
        "    .withColumn(\"localidade_id\", monotonically_increasing_id())\n",
        "\n",
        "# Montar tabela dimensão Produto\n",
        "dim_produto = dados_brutos.select(\"nome_produto\", \"categoria\", \"fabricante\").dropDuplicates() \\\n",
        "    .withColumn(\"produto_id\", monotonically_increasing_id())\n",
        "\n",
        "# Montar tabela dimensão Tempo\n",
        "dim_tempo = dados_brutos.select(\"data\").dropDuplicates() \\\n",
        "    .withColumn(\"data_id\", monotonically_increasing_id()) \\\n",
        "    .withColumn(\"ano\", year(\"data\")) \\\n",
        "    .withColumn(\"mes\", month(\"data\")) \\\n",
        "    .withColumn(\"dia\", dayofmonth(\"data\"))\n"
      ],
      "metadata": {
        "id": "cg9AM9OEY5p6"
      },
      "execution_count": 7,
      "outputs": []
    },
    {
      "cell_type": "code",
      "source": [
        "# Join para adicionar os IDs nas vendas\n",
        "fato = dados_brutos.join(dim_cliente, on=\"nome_cliente\", how=\"left\") \\\n",
        "    .join(dim_localidade, on=[\"cidade\", \"estado\"], how=\"left\") \\\n",
        "    .join(dim_produto, on=[\"nome_produto\", \"categoria\", \"fabricante\"], how=\"left\") \\\n",
        "    .join(dim_tempo, on=\"data\", how=\"left\")\n",
        "\n",
        "# Selecionar apenas os campos da tabela fato\n",
        "fato_vendas = fato.select(\n",
        "    \"cliente_id\",\n",
        "    \"localidade_id\",\n",
        "    \"produto_id\",\n",
        "    \"data_id\",\n",
        "    \"qtd_vendida\",\n",
        "    \"valor_total\"\n",
        ")\n"
      ],
      "metadata": {
        "id": "JxTlSwCpZAQH"
      },
      "execution_count": 8,
      "outputs": []
    },
    {
      "cell_type": "code",
      "source": [
        "# Montar pasta que irá receber o arquivos de resultado\n",
        "os.makedirs(\"/content/resultado\", exist_ok=True)\n",
        "\n",
        "# Salvar os CSVs\n",
        "dim_cliente.write.csv(\"/content/resultado/dim_cliente\", header=True, mode=\"overwrite\")\n",
        "dim_localidade.write.csv(\"/content/resultado/dim_localidade\", header=True, mode=\"overwrite\")\n",
        "dim_produto.write.csv(\"/content/resultado/dim_produto\", header=True, mode=\"overwrite\")\n",
        "dim_tempo.write.csv(\"/content/resultado/dim_tempo\", header=True, mode=\"overwrite\")\n",
        "fato_vendas.write.csv(\"/content/resultado/fato_vendas\", header=True, mode=\"overwrite\")\n"
      ],
      "metadata": {
        "id": "V7dCiuG2ZBvI"
      },
      "execution_count": 9,
      "outputs": []
    },
    {
      "cell_type": "code",
      "source": [
        "# Data do dia da execução\n",
        "data_hoje = datetime.now().strftime('%Y-%m-%d')\n",
        "\n",
        "# Definir o nome do arquivo .zip com a data do dia da execução do script\n",
        "nome_zip = f\"resultado_{data_hoje}.zip\"\n",
        "\n",
        "# Compactação dos resultados para disponibilização em .zip, caso prefira baixar tudo de uma vez\n",
        "!zip -r {nome_zip} /content/resultado\n",
        "\n",
        "# Baixar o arquivo zipado\n",
        "files.download(f\"/content/{nome_zip}\")"
      ],
      "metadata": {
        "colab": {
          "base_uri": "https://localhost:8080/",
          "height": 468
        },
        "id": "UrbgPSwnZU9p",
        "outputId": "ec4b7833-3535-4d9f-9f10-99e97c5b1e55"
      },
      "execution_count": 20,
      "outputs": [
        {
          "output_type": "stream",
          "name": "stdout",
          "text": [
            "  adding: content/resultado/ (stored 0%)\n",
            "  adding: content/resultado/dim_produto/ (stored 0%)\n",
            "  adding: content/resultado/dim_produto/._SUCCESS.crc (stored 0%)\n",
            "  adding: content/resultado/dim_produto/part-00000-beec2fcb-d8ea-4129-abcd-87247cce22dc-c000.csv (deflated 18%)\n",
            "  adding: content/resultado/dim_produto/_SUCCESS (stored 0%)\n",
            "  adding: content/resultado/dim_produto/.part-00000-beec2fcb-d8ea-4129-abcd-87247cce22dc-c000.csv.crc (stored 0%)\n",
            "  adding: content/resultado/dim_localidade/ (stored 0%)\n",
            "  adding: content/resultado/dim_localidade/.part-00000-cecc329a-5392-4c31-9761-5508706480e9-c000.csv.crc (stored 0%)\n",
            "  adding: content/resultado/dim_localidade/part-00000-cecc329a-5392-4c31-9761-5508706480e9-c000.csv (deflated 6%)\n",
            "  adding: content/resultado/dim_localidade/._SUCCESS.crc (stored 0%)\n",
            "  adding: content/resultado/dim_localidade/_SUCCESS (stored 0%)\n",
            "  adding: content/resultado/dim_tempo/ (stored 0%)\n",
            "  adding: content/resultado/dim_tempo/.part-00000-e0e6a5a4-144b-4b79-852e-3786a9c70d33-c000.csv.crc (stored 0%)\n",
            "  adding: content/resultado/dim_tempo/._SUCCESS.crc (stored 0%)\n",
            "  adding: content/resultado/dim_tempo/_SUCCESS (stored 0%)\n",
            "  adding: content/resultado/dim_tempo/part-00000-e0e6a5a4-144b-4b79-852e-3786a9c70d33-c000.csv (deflated 70%)\n",
            "  adding: content/resultado/dim_cliente/ (stored 0%)\n",
            "  adding: content/resultado/dim_cliente/._SUCCESS.crc (stored 0%)\n",
            "  adding: content/resultado/dim_cliente/part-00000-3e2bbff8-9609-4d47-8b08-17b12ae21eed-c000.csv (deflated 8%)\n",
            "  adding: content/resultado/dim_cliente/_SUCCESS (stored 0%)\n",
            "  adding: content/resultado/dim_cliente/.part-00000-3e2bbff8-9609-4d47-8b08-17b12ae21eed-c000.csv.crc (stored 0%)\n",
            "  adding: content/resultado/fato_vendas/ (stored 0%)\n",
            "  adding: content/resultado/fato_vendas/._SUCCESS.crc (stored 0%)\n",
            "  adding: content/resultado/fato_vendas/.part-00000-aaf5508a-385a-4a56-b52e-1c8708799c0f-c000.csv.crc (stored 0%)\n",
            "  adding: content/resultado/fato_vendas/_SUCCESS (stored 0%)\n",
            "  adding: content/resultado/fato_vendas/part-00000-aaf5508a-385a-4a56-b52e-1c8708799c0f-c000.csv (deflated 60%)\n"
          ]
        },
        {
          "output_type": "display_data",
          "data": {
            "text/plain": [
              "<IPython.core.display.Javascript object>"
            ],
            "application/javascript": [
              "\n",
              "    async function download(id, filename, size) {\n",
              "      if (!google.colab.kernel.accessAllowed) {\n",
              "        return;\n",
              "      }\n",
              "      const div = document.createElement('div');\n",
              "      const label = document.createElement('label');\n",
              "      label.textContent = `Downloading \"${filename}\": `;\n",
              "      div.appendChild(label);\n",
              "      const progress = document.createElement('progress');\n",
              "      progress.max = size;\n",
              "      div.appendChild(progress);\n",
              "      document.body.appendChild(div);\n",
              "\n",
              "      const buffers = [];\n",
              "      let downloaded = 0;\n",
              "\n",
              "      const channel = await google.colab.kernel.comms.open(id);\n",
              "      // Send a message to notify the kernel that we're ready.\n",
              "      channel.send({})\n",
              "\n",
              "      for await (const message of channel.messages) {\n",
              "        // Send a message to notify the kernel that we're ready.\n",
              "        channel.send({})\n",
              "        if (message.buffers) {\n",
              "          for (const buffer of message.buffers) {\n",
              "            buffers.push(buffer);\n",
              "            downloaded += buffer.byteLength;\n",
              "            progress.value = downloaded;\n",
              "          }\n",
              "        }\n",
              "      }\n",
              "      const blob = new Blob(buffers, {type: 'application/binary'});\n",
              "      const a = document.createElement('a');\n",
              "      a.href = window.URL.createObjectURL(blob);\n",
              "      a.download = filename;\n",
              "      div.appendChild(a);\n",
              "      a.click();\n",
              "      div.remove();\n",
              "    }\n",
              "  "
            ]
          },
          "metadata": {}
        },
        {
          "output_type": "display_data",
          "data": {
            "text/plain": [
              "<IPython.core.display.Javascript object>"
            ],
            "application/javascript": [
              "download(\"download_c7c6be0d-d875-48a3-ad11-1c5dcec9999b\", \"resultado_2025-04-28.zip\", 7542)"
            ]
          },
          "metadata": {}
        }
      ]
    },
    {
      "cell_type": "markdown",
      "source": [
        "#**Seção 2 - Análise para as principais perguntas de negócio** *texto em itálico*"
      ],
      "metadata": {
        "id": "pUyj0ZHnTu6R"
      }
    },
    {
      "cell_type": "code",
      "source": [
        "# Montar as tabelas como views temporárias para conseguirmos executar as querys\n",
        "dim_cliente.createOrReplaceTempView(\"dim_cliente\")\n",
        "dim_localidade.createOrReplaceTempView(\"dim_localidade\")\n",
        "dim_produto.createOrReplaceTempView(\"dim_produto\")\n",
        "dim_tempo.createOrReplaceTempView(\"dim_tempo\")\n",
        "fato_vendas.createOrReplaceTempView(\"fato_vendas\")\n"
      ],
      "metadata": {
        "id": "FEGar99SehPN"
      },
      "execution_count": 11,
      "outputs": []
    },
    {
      "cell_type": "code",
      "source": [
        "# Distribuição do total de vendas por estado\n",
        "vendas_por_estado = spark.sql(\"\"\"\n",
        "    SELECT\n",
        "        d.estado,\n",
        "        SUM(f.valor_total) AS total_vendas\n",
        "    FROM fato_vendas f\n",
        "    JOIN dim_localidade d ON f.localidade_id = d.localidade_id\n",
        "    GROUP BY d.estado\n",
        "    ORDER BY total_vendas DESC\n",
        "\"\"\")\n",
        "\n",
        "vendas_por_estado.show()"
      ],
      "metadata": {
        "colab": {
          "base_uri": "https://localhost:8080/"
        },
        "id": "EamXvtIUejrQ",
        "outputId": "c702e88d-d292-4c20-b296-2ce00a9c7612"
      },
      "execution_count": 12,
      "outputs": [
        {
          "output_type": "stream",
          "name": "stdout",
          "text": [
            "+------+------------+\n",
            "|estado|total_vendas|\n",
            "+------+------------+\n",
            "|    SP|        4646|\n",
            "|    PR|        3113|\n",
            "|    RS|        2991|\n",
            "|    RJ|        2300|\n",
            "|    MG|        1794|\n",
            "+------+------------+\n",
            "\n"
          ]
        }
      ]
    },
    {
      "cell_type": "code",
      "source": [
        "# Top 5 clientes da operação\n",
        "\n",
        "top_clientes = spark.sql(\"\"\"\n",
        "    SELECT\n",
        "        c.nome_cliente,\n",
        "        SUM(f.valor_total) AS total_gasto\n",
        "    FROM fato_vendas f\n",
        "    JOIN dim_cliente c ON f.cliente_id = c.cliente_id\n",
        "    GROUP BY c.nome_cliente\n",
        "    ORDER BY total_gasto DESC\n",
        "    LIMIT 5\n",
        "\"\"\")\n",
        "\n",
        "top_clientes.show()\n"
      ],
      "metadata": {
        "colab": {
          "base_uri": "https://localhost:8080/"
        },
        "id": "1dBlUoVketdI",
        "outputId": "63495ccd-f35b-4f19-e188-18eafb0e345d"
      },
      "execution_count": 13,
      "outputs": [
        {
          "output_type": "stream",
          "name": "stdout",
          "text": [
            "+-------------+-----------+\n",
            "| nome_cliente|total_gasto|\n",
            "+-------------+-----------+\n",
            "|   João Silva|       4646|\n",
            "| Pedro Santos|       3113|\n",
            "|Lucas Pereira|       2991|\n",
            "| Ana Oliveira|       2300|\n",
            "|  Maria Souza|       1794|\n",
            "+-------------+-----------+\n",
            "\n"
          ]
        }
      ]
    },
    {
      "cell_type": "code",
      "source": [
        "# Produtos com maior demanda\n",
        "produtos_mais_vendidos = spark.sql(\"\"\"\n",
        "    SELECT\n",
        "        p.nome_produto,\n",
        "        SUM(f.qtd_vendida) AS total_vendido\n",
        "    FROM fato_vendas f\n",
        "    JOIN dim_produto p ON f.produto_id = p.produto_id\n",
        "    GROUP BY p.nome_produto\n",
        "    ORDER BY total_vendido DESC\n",
        "\"\"\")\n",
        "\n",
        "produtos_mais_vendidos.show()\n"
      ],
      "metadata": {
        "colab": {
          "base_uri": "https://localhost:8080/"
        },
        "id": "UAsBgN5re8kc",
        "outputId": "e4da3ad0-6af3-4022-cecb-4525e734520e"
      },
      "execution_count": 15,
      "outputs": [
        {
          "output_type": "stream",
          "name": "stdout",
          "text": [
            "+------------+-------------+\n",
            "|nome_produto|total_vendido|\n",
            "+------------+-------------+\n",
            "|      Feijão|          142|\n",
            "| Sabão em pó|          114|\n",
            "|  Detergente|          112|\n",
            "|Refrigerante|          101|\n",
            "|       Arroz|           89|\n",
            "+------------+-------------+\n",
            "\n"
          ]
        }
      ]
    },
    {
      "cell_type": "code",
      "source": [
        "# Distribuição das vendas por ano e mês\n",
        "vendas_ano_mes = spark.sql(\"\"\"\n",
        "    SELECT\n",
        "        t.ano,\n",
        "        t.mes,\n",
        "        SUM(f.valor_total) AS total_vendas\n",
        "    FROM fato_vendas f\n",
        "    JOIN dim_tempo t ON f.data_id = t.data_id\n",
        "    GROUP BY t.ano, t.mes\n",
        "    ORDER BY t.ano, t.mes\n",
        "\"\"\")\n",
        "\n",
        "vendas_ano_mes.show()\n"
      ],
      "metadata": {
        "colab": {
          "base_uri": "https://localhost:8080/"
        },
        "id": "IUBiKeKjfGph",
        "outputId": "1a42315e-a012-4d46-d8e2-5c02dea9aa01"
      },
      "execution_count": 16,
      "outputs": [
        {
          "output_type": "stream",
          "name": "stdout",
          "text": [
            "+----+---+------------+\n",
            "| ano|mes|total_vendas|\n",
            "+----+---+------------+\n",
            "|2024|  1|       14844|\n",
            "+----+---+------------+\n",
            "\n"
          ]
        }
      ]
    },
    {
      "cell_type": "code",
      "source": [
        "# Distribuição de receita a nível de fabricante\n",
        "receita_por_fabricante = spark.sql(\"\"\"\n",
        "    SELECT\n",
        "        p.fabricante,\n",
        "        SUM(f.valor_total) AS total_receita\n",
        "    FROM fato_vendas f\n",
        "    JOIN dim_produto p ON f.produto_id = p.produto_id\n",
        "    GROUP BY p.fabricante\n",
        "    ORDER BY total_receita DESC\n",
        "\"\"\")\n",
        "\n",
        "receita_por_fabricante.show()\n"
      ],
      "metadata": {
        "colab": {
          "base_uri": "https://localhost:8080/"
        },
        "id": "6V9pYwxzfMfe",
        "outputId": "b39ac98a-b301-42be-c6cc-df2b59375edd"
      },
      "execution_count": 17,
      "outputs": [
        {
          "output_type": "stream",
          "name": "stdout",
          "text": [
            "+----------+-------------+\n",
            "|fabricante|total_receita|\n",
            "+----------+-------------+\n",
            "|   Kicaldo|         3704|\n",
            "|       Ypê|         3000|\n",
            "|       OMO|         2951|\n",
            "|     Camil|         2647|\n",
            "| Coca-Cola|         2542|\n",
            "+----------+-------------+\n",
            "\n"
          ]
        }
      ]
    }
  ]
}